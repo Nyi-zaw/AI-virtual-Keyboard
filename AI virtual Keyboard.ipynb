{
 "cells": [
  {
   "cell_type": "code",
   "execution_count": 6,
   "id": "c2f1b35a",
   "metadata": {},
   "outputs": [
    {
     "name": "stdout",
     "output_type": "stream",
     "text": [
      "Requirement already satisfied: numpy in c:\\users\\user\\anaconda3\\lib\\site-packages (1.24.3)\n",
      "Note: you may need to restart the kernel to use updated packages.\n"
     ]
    }
   ],
   "source": [
    "pip install numpy"
   ]
  },
  {
   "cell_type": "code",
   "execution_count": 7,
   "id": "a6139ea7",
   "metadata": {
    "scrolled": true
   },
   "outputs": [
    {
     "name": "stdout",
     "output_type": "stream",
     "text": [
      "Requirement already satisfied: opencv-python in c:\\users\\user\\anaconda3\\lib\\site-packages (4.8.1.78)\n",
      "Requirement already satisfied: numpy>=1.21.2 in c:\\users\\user\\anaconda3\\lib\\site-packages (from opencv-python) (1.24.3)\n",
      "Note: you may need to restart the kernel to use updated packages.\n"
     ]
    }
   ],
   "source": [
    "pip install opencv-python"
   ]
  },
  {
   "cell_type": "code",
   "execution_count": 8,
   "id": "225f7ee5",
   "metadata": {
    "scrolled": true
   },
   "outputs": [
    {
     "name": "stdout",
     "output_type": "stream",
     "text": [
      "Requirement already satisfied: cvzone in c:\\users\\user\\anaconda3\\lib\\site-packages (1.4.1)\n",
      "Requirement already satisfied: opencv-python in c:\\users\\user\\anaconda3\\lib\\site-packages (from cvzone) (4.8.1.78)\n",
      "Requirement already satisfied: numpy in c:\\users\\user\\anaconda3\\lib\\site-packages (from cvzone) (1.24.3)\n",
      "Note: you may need to restart the kernel to use updated packages.\n"
     ]
    }
   ],
   "source": [
    "pip install cvzone"
   ]
  },
  {
   "cell_type": "code",
   "execution_count": 9,
   "id": "014c3de3",
   "metadata": {},
   "outputs": [
    {
     "name": "stdout",
     "output_type": "stream",
     "text": [
      "Requirement already satisfied: cvzone in c:\\users\\user\\anaconda3\\lib\\site-packages (1.4.1)\n",
      "Collecting cvzone\n",
      "  Using cached cvzone-1.6.1-py3-none-any.whl\n",
      "Requirement already satisfied: opencv-python in c:\\users\\user\\anaconda3\\lib\\site-packages (from cvzone) (4.8.1.78)\n",
      "Requirement already satisfied: numpy in c:\\users\\user\\anaconda3\\lib\\site-packages (from cvzone) (1.24.3)\n",
      "Installing collected packages: cvzone\n",
      "  Attempting uninstall: cvzone\n",
      "    Found existing installation: cvzone 1.4.1\n",
      "    Uninstalling cvzone-1.4.1:\n",
      "      Successfully uninstalled cvzone-1.4.1\n",
      "Successfully installed cvzone-1.6.1\n",
      "Note: you may need to restart the kernel to use updated packages.\n"
     ]
    }
   ],
   "source": [
    "pip install --upgrade cvzone"
   ]
  },
  {
   "cell_type": "code",
   "execution_count": 10,
   "id": "c7639ec9",
   "metadata": {},
   "outputs": [
    {
     "name": "stdout",
     "output_type": "stream",
     "text": [
      "Collecting cvzone==1.4.1\n",
      "  Using cached cvzone-1.4.1-py3-none-any.whl\n",
      "Requirement already satisfied: opencv-python in c:\\users\\user\\anaconda3\\lib\\site-packages (from cvzone==1.4.1) (4.8.1.78)\n",
      "Requirement already satisfied: numpy in c:\\users\\user\\anaconda3\\lib\\site-packages (from cvzone==1.4.1) (1.24.3)\n",
      "Installing collected packages: cvzone\n",
      "  Attempting uninstall: cvzone\n",
      "    Found existing installation: cvzone 1.6.1\n",
      "    Uninstalling cvzone-1.6.1:\n",
      "      Successfully uninstalled cvzone-1.6.1\n",
      "Successfully installed cvzone-1.4.1\n",
      "Note: you may need to restart the kernel to use updated packages.\n"
     ]
    }
   ],
   "source": [
    "pip install cvzone==1.4.1"
   ]
  },
  {
   "cell_type": "code",
   "execution_count": 11,
   "id": "de88b111",
   "metadata": {},
   "outputs": [
    {
     "name": "stdout",
     "output_type": "stream",
     "text": [
      "Requirement already satisfied: mediapipe in c:\\users\\user\\anaconda3\\lib\\site-packages (0.10.9)\n",
      "Requirement already satisfied: absl-py in c:\\users\\user\\anaconda3\\lib\\site-packages (from mediapipe) (2.0.0)\n",
      "Requirement already satisfied: attrs>=19.1.0 in c:\\users\\user\\anaconda3\\lib\\site-packages (from mediapipe) (22.1.0)\n",
      "Requirement already satisfied: flatbuffers>=2.0 in c:\\users\\user\\anaconda3\\lib\\site-packages (from mediapipe) (23.5.26)\n",
      "Requirement already satisfied: matplotlib in c:\\users\\user\\anaconda3\\lib\\site-packages (from mediapipe) (3.7.1)\n",
      "Requirement already satisfied: numpy in c:\\users\\user\\anaconda3\\lib\\site-packages (from mediapipe) (1.24.3)\n",
      "Requirement already satisfied: opencv-contrib-python in c:\\users\\user\\anaconda3\\lib\\site-packages (from mediapipe) (4.9.0.80)\n",
      "Requirement already satisfied: protobuf<4,>=3.11 in c:\\users\\user\\anaconda3\\lib\\site-packages (from mediapipe) (3.20.3)\n",
      "Requirement already satisfied: sounddevice>=0.4.4 in c:\\users\\user\\anaconda3\\lib\\site-packages (from mediapipe) (0.4.6)\n",
      "Requirement already satisfied: CFFI>=1.0 in c:\\users\\user\\anaconda3\\lib\\site-packages (from sounddevice>=0.4.4->mediapipe) (1.15.1)\n",
      "Requirement already satisfied: contourpy>=1.0.1 in c:\\users\\user\\anaconda3\\lib\\site-packages (from matplotlib->mediapipe) (1.0.5)\n",
      "Requirement already satisfied: cycler>=0.10 in c:\\users\\user\\anaconda3\\lib\\site-packages (from matplotlib->mediapipe) (0.11.0)\n",
      "Requirement already satisfied: fonttools>=4.22.0 in c:\\users\\user\\anaconda3\\lib\\site-packages (from matplotlib->mediapipe) (4.25.0)\n",
      "Requirement already satisfied: kiwisolver>=1.0.1 in c:\\users\\user\\anaconda3\\lib\\site-packages (from matplotlib->mediapipe) (1.4.4)\n",
      "Requirement already satisfied: packaging>=20.0 in c:\\users\\user\\anaconda3\\lib\\site-packages (from matplotlib->mediapipe) (23.0)\n",
      "Requirement already satisfied: pillow>=6.2.0 in c:\\users\\user\\anaconda3\\lib\\site-packages (from matplotlib->mediapipe) (9.4.0)\n",
      "Requirement already satisfied: pyparsing>=2.3.1 in c:\\users\\user\\anaconda3\\lib\\site-packages (from matplotlib->mediapipe) (3.0.9)\n",
      "Requirement already satisfied: python-dateutil>=2.7 in c:\\users\\user\\anaconda3\\lib\\site-packages (from matplotlib->mediapipe) (2.8.2)\n",
      "Requirement already satisfied: pycparser in c:\\users\\user\\anaconda3\\lib\\site-packages (from CFFI>=1.0->sounddevice>=0.4.4->mediapipe) (2.21)\n",
      "Requirement already satisfied: six>=1.5 in c:\\users\\user\\anaconda3\\lib\\site-packages (from python-dateutil>=2.7->matplotlib->mediapipe) (1.16.0)\n",
      "Note: you may need to restart the kernel to use updated packages.\n"
     ]
    }
   ],
   "source": [
    "pip install mediapipe"
   ]
  },
  {
   "cell_type": "code",
   "execution_count": 14,
   "id": "6d45f7bf",
   "metadata": {},
   "outputs": [
    {
     "name": "stdout",
     "output_type": "stream",
     "text": [
      "Collecting pynput\n",
      "  Downloading pynput-1.7.6-py2.py3-none-any.whl (89 kB)\n",
      "     ---------------------------------------- 0.0/89.2 kB ? eta -:--:--\n",
      "     ------------------ --------------------- 41.0/89.2 kB 2.0 MB/s eta 0:00:01\n",
      "     ---------------------------------------- 89.2/89.2 kB 1.3 MB/s eta 0:00:00\n",
      "Requirement already satisfied: six in c:\\users\\user\\anaconda3\\lib\\site-packages (from pynput) (1.16.0)\n",
      "Installing collected packages: pynput\n",
      "Successfully installed pynput-1.7.6\n"
     ]
    }
   ],
   "source": [
    "!pip install pynput"
   ]
  },
  {
   "cell_type": "code",
   "execution_count": 7,
   "id": "d912b4b6",
   "metadata": {},
   "outputs": [
    {
     "name": "stdout",
     "output_type": "stream",
     "text": [
      "158.40454538932903\n",
      "148.60686390607938\n",
      "146.63219291819925\n",
      "147.14618581533128\n",
      "139.26952286842948\n",
      "134.40238093129153\n",
      "110.45361017187261\n",
      "112.60550608207397\n",
      "117.88553770501282\n",
      "120.37026210821342\n",
      "116.49892703368559\n",
      "118.22436297142819\n",
      "97.082439194738\n",
      "45.803929962395145\n",
      "42.43819034784589\n",
      "94.87360012142472\n",
      "104.0096149401583\n",
      "125.36347155371855\n",
      "127.02755606560333\n",
      "124.61942063739504\n",
      "125.4312560727987\n",
      "125.67020331009256\n",
      "81.60882305241266\n",
      "58.137767414994535\n",
      "45.967379738244816\n",
      "46.69047011971501\n",
      "50.20956084253277\n",
      "54.48853090330111\n",
      "54.67174773134658\n",
      "113.00442469213318\n",
      "120.80149005703531\n",
      "116.21101496846157\n",
      "108.00462953040486\n",
      "96.40020746865642\n",
      "88.40814442120137\n",
      "50.20956084253277\n",
      "45.967379738244816\n",
      "44.553338819890925\n",
      "50.20956084253277\n",
      "60.30754513325841\n",
      "62.625873247404705\n",
      "65.43699259593154\n",
      "73.87827826905551\n",
      "101.04454463255303\n",
      "105.26157893552613\n",
      "100.42410069301094\n",
      "82.3286098510111\n",
      "55.97320787662612\n",
      "45.967379738244816\n",
      "44.598206241955516\n",
      "45.27692569068709\n",
      "46.010868281309364\n",
      "89.20201791439474\n",
      "93.86160024205851\n",
      "99.35793878699377\n",
      "102.00490184299969\n",
      "105.60303025955268\n",
      "108.23123393919151\n",
      "104.80935072788114\n",
      "96.21330469326995\n",
      "78.87331614684399\n",
      "57.48912940721924\n",
      "43.86342439892262\n",
      "57.38466694161429\n",
      "74.65252842335616\n",
      "83.09632964216891\n",
      "91.0494371207203\n",
      "99.80981915623332\n",
      "104.63746938836012\n",
      "108.07404868885037\n",
      "103.32473082471591\n",
      "99.72462083156798\n",
      "99.72462083156798\n",
      "101.13851887386922\n",
      "101.82337649086284\n",
      "99.70456358662827\n",
      "96.89685237405806\n",
      "96.17692030835673\n",
      "87.80091115700337\n",
      "84.31488599292535\n",
      "82.15229759416349\n",
      "82.85529554590944\n",
      "81.8413098624405\n",
      "82.73451516749222\n",
      "64.19501538281614\n",
      "30.265491900843113\n",
      "65.5133574166368\n",
      "65.30696746902278\n",
      "63.34824385884742\n",
      "63.34824385884742\n",
      "64.13267497929586\n",
      "61.18823416311342\n",
      "35.35533905932738\n",
      "27.0\n",
      "51.35172830587107\n",
      "55.226805085936306\n",
      "62.39390995922599\n",
      "61.29437168288782\n",
      "63.50590523722971\n",
      "60.40695324215582\n",
      "58.42088667591412\n",
      "60.13318551349163\n",
      "61.1310068623117\n",
      "61.204574992397426\n",
      "49.040799340956916\n",
      "49.01020301937138\n",
      "36.22154055254967\n",
      "30.59411708155671\n",
      "31.575306807693888\n",
      "31.78049716414141\n",
      "36.22154055254967\n",
      "48.010415536631214\n",
      "52.15361924162119\n",
      "51.088159097779204\n",
      "58.137767414994535\n",
      "59.135437767890075\n",
      "57.14017850864661\n",
      "58.215118311311535\n",
      "57.3149195236284\n",
      "38.2099463490856\n",
      "30.265491900843113\n",
      "28.071337695236398\n",
      "24.0\n",
      "49.36598018878993\n",
      "50.35871324805669\n",
      "50.24937810560445\n",
      "52.46903848937962\n",
      "52.61178575186362\n",
      "51.62363799656123\n",
      "52.46903848937962\n",
      "52.61178575186362\n",
      "52.46903848937962\n",
      "50.80354318352215\n",
      "49.36598018878993\n",
      "48.373546489791295\n",
      "47.38143096192854\n",
      "50.24937810560445\n",
      "52.23983154643591\n",
      "51.24451190127583\n",
      "48.662100242385755\n",
      "50.96076922496363\n",
      "48.76474136094644\n",
      "51.66236541235796\n",
      "53.600373133029585\n",
      "51.92301994298868\n",
      "47.12748667179272\n",
      "32.28002478313795\n",
      "35.90264614203248\n",
      "49.24428900898052\n",
      "61.1310068623117\n",
      "56.32051136131489\n",
      "51.92301994298868\n",
      "44.64302857109943\n",
      "36.138621999185304\n",
      "28.861739379323623\n",
      "47.43416490252569\n",
      "50.0\n",
      "54.405882034941776\n",
      "56.302753041036986\n",
      "57.245087125446844\n",
      "58.18934610390462\n",
      "60.40695324215582\n",
      "59.464274989274024\n",
      "58.52349955359813\n",
      "60.08327554319921\n",
      "60.08327554319921\n",
      "61.032778078668514\n",
      "60.08327554319921\n",
      "59.135437767890075\n",
      "60.08327554319921\n",
      "60.08327554319921\n",
      "59.464274989274024\n",
      "33.015148038438355\n",
      "41.400483088968905\n",
      "37.013511046643494\n"
     ]
    },
    {
     "ename": "KeyboardInterrupt",
     "evalue": "",
     "output_type": "error",
     "traceback": [
      "\u001b[1;31m---------------------------------------------------------------------------\u001b[0m",
      "\u001b[1;31mKeyboardInterrupt\u001b[0m                         Traceback (most recent call last)",
      "Cell \u001b[1;32mIn[7], line 46\u001b[0m\n\u001b[0;32m     44\u001b[0m \u001b[38;5;28;01mwhile\u001b[39;00m \u001b[38;5;28;01mTrue\u001b[39;00m:\n\u001b[0;32m     45\u001b[0m     success, img \u001b[38;5;241m=\u001b[39m cap\u001b[38;5;241m.\u001b[39mread()\n\u001b[1;32m---> 46\u001b[0m     img \u001b[38;5;241m=\u001b[39m detector\u001b[38;5;241m.\u001b[39mfindHands(img)\n\u001b[0;32m     47\u001b[0m     lm_list, bbox_info \u001b[38;5;241m=\u001b[39m detector\u001b[38;5;241m.\u001b[39mfindPosition(img)\n\u001b[0;32m     48\u001b[0m     img \u001b[38;5;241m=\u001b[39m draw_all(img, button_list)\n",
      "File \u001b[1;32m~\\anaconda3\\Lib\\site-packages\\cvzone\\HandTrackingModule.py:48\u001b[0m, in \u001b[0;36mHandDetector.findHands\u001b[1;34m(self, img, draw)\u001b[0m\n\u001b[0;32m     41\u001b[0m \u001b[38;5;250m\u001b[39m\u001b[38;5;124;03m\"\"\"\u001b[39;00m\n\u001b[0;32m     42\u001b[0m \u001b[38;5;124;03mFinds hands in a BGR image.\u001b[39;00m\n\u001b[0;32m     43\u001b[0m \u001b[38;5;124;03m:param img: Image to find the hands in.\u001b[39;00m\n\u001b[0;32m     44\u001b[0m \u001b[38;5;124;03m:param draw: Flag to draw the output on the image.\u001b[39;00m\n\u001b[0;32m     45\u001b[0m \u001b[38;5;124;03m:return: Image with or without drawings\u001b[39;00m\n\u001b[0;32m     46\u001b[0m \u001b[38;5;124;03m\"\"\"\u001b[39;00m\n\u001b[0;32m     47\u001b[0m imgRGB \u001b[38;5;241m=\u001b[39m cv2\u001b[38;5;241m.\u001b[39mcvtColor(img, cv2\u001b[38;5;241m.\u001b[39mCOLOR_BGR2RGB)\n\u001b[1;32m---> 48\u001b[0m \u001b[38;5;28mself\u001b[39m\u001b[38;5;241m.\u001b[39mresults \u001b[38;5;241m=\u001b[39m \u001b[38;5;28mself\u001b[39m\u001b[38;5;241m.\u001b[39mhands\u001b[38;5;241m.\u001b[39mprocess(imgRGB)\n\u001b[0;32m     50\u001b[0m \u001b[38;5;28;01mif\u001b[39;00m \u001b[38;5;28mself\u001b[39m\u001b[38;5;241m.\u001b[39mresults\u001b[38;5;241m.\u001b[39mmulti_hand_landmarks:\n\u001b[0;32m     51\u001b[0m     \u001b[38;5;28;01mfor\u001b[39;00m handLms \u001b[38;5;129;01min\u001b[39;00m \u001b[38;5;28mself\u001b[39m\u001b[38;5;241m.\u001b[39mresults\u001b[38;5;241m.\u001b[39mmulti_hand_landmarks:\n",
      "File \u001b[1;32m~\\anaconda3\\Lib\\site-packages\\mediapipe\\python\\solutions\\hands.py:153\u001b[0m, in \u001b[0;36mHands.process\u001b[1;34m(self, image)\u001b[0m\n\u001b[0;32m    132\u001b[0m \u001b[38;5;28;01mdef\u001b[39;00m \u001b[38;5;21mprocess\u001b[39m(\u001b[38;5;28mself\u001b[39m, image: np\u001b[38;5;241m.\u001b[39mndarray) \u001b[38;5;241m-\u001b[39m\u001b[38;5;241m>\u001b[39m NamedTuple:\n\u001b[0;32m    133\u001b[0m \u001b[38;5;250m  \u001b[39m\u001b[38;5;124;03m\"\"\"Processes an RGB image and returns the hand landmarks and handedness of each detected hand.\u001b[39;00m\n\u001b[0;32m    134\u001b[0m \n\u001b[0;32m    135\u001b[0m \u001b[38;5;124;03m  Args:\u001b[39;00m\n\u001b[1;32m   (...)\u001b[0m\n\u001b[0;32m    150\u001b[0m \u001b[38;5;124;03m         right hand) of the detected hand.\u001b[39;00m\n\u001b[0;32m    151\u001b[0m \u001b[38;5;124;03m  \"\"\"\u001b[39;00m\n\u001b[1;32m--> 153\u001b[0m   \u001b[38;5;28;01mreturn\u001b[39;00m \u001b[38;5;28msuper\u001b[39m()\u001b[38;5;241m.\u001b[39mprocess(input_data\u001b[38;5;241m=\u001b[39m{\u001b[38;5;124m'\u001b[39m\u001b[38;5;124mimage\u001b[39m\u001b[38;5;124m'\u001b[39m: image})\n",
      "File \u001b[1;32m~\\anaconda3\\Lib\\site-packages\\mediapipe\\python\\solution_base.py:372\u001b[0m, in \u001b[0;36mSolutionBase.process\u001b[1;34m(self, input_data)\u001b[0m\n\u001b[0;32m    366\u001b[0m   \u001b[38;5;28;01melse\u001b[39;00m:\n\u001b[0;32m    367\u001b[0m     \u001b[38;5;28mself\u001b[39m\u001b[38;5;241m.\u001b[39m_graph\u001b[38;5;241m.\u001b[39madd_packet_to_input_stream(\n\u001b[0;32m    368\u001b[0m         stream\u001b[38;5;241m=\u001b[39mstream_name,\n\u001b[0;32m    369\u001b[0m         packet\u001b[38;5;241m=\u001b[39m\u001b[38;5;28mself\u001b[39m\u001b[38;5;241m.\u001b[39m_make_packet(input_stream_type,\n\u001b[0;32m    370\u001b[0m                                  data)\u001b[38;5;241m.\u001b[39mat(\u001b[38;5;28mself\u001b[39m\u001b[38;5;241m.\u001b[39m_simulated_timestamp))\n\u001b[1;32m--> 372\u001b[0m \u001b[38;5;28mself\u001b[39m\u001b[38;5;241m.\u001b[39m_graph\u001b[38;5;241m.\u001b[39mwait_until_idle()\n\u001b[0;32m    373\u001b[0m \u001b[38;5;66;03m# Create a NamedTuple object where the field names are mapping to the graph\u001b[39;00m\n\u001b[0;32m    374\u001b[0m \u001b[38;5;66;03m# output stream names.\u001b[39;00m\n\u001b[0;32m    375\u001b[0m solution_outputs \u001b[38;5;241m=\u001b[39m collections\u001b[38;5;241m.\u001b[39mnamedtuple(\n\u001b[0;32m    376\u001b[0m     \u001b[38;5;124m'\u001b[39m\u001b[38;5;124mSolutionOutputs\u001b[39m\u001b[38;5;124m'\u001b[39m, \u001b[38;5;28mself\u001b[39m\u001b[38;5;241m.\u001b[39m_output_stream_type_info\u001b[38;5;241m.\u001b[39mkeys())\n",
      "\u001b[1;31mKeyboardInterrupt\u001b[0m: "
     ]
    }
   ],
   "source": [
    "import cv2\n",
    "import numpy as np\n",
    "import cvzone\n",
    "from cvzone.HandTrackingModule import HandDetector\n",
    "from time import sleep\n",
    "from pynput.keyboard import Controller\n",
    "from IPython.display import display, Image, clear_output\n",
    "import PIL.Image\n",
    "\n",
    "cap = cv2.VideoCapture(0)\n",
    "cap.set(3, 1280)\n",
    "cap.set(4, 720)\n",
    "\n",
    "detector = HandDetector(detectionCon=1)\n",
    "keys = [[\"Q\", \"W\", \"E\", \"R\", \"T\", \"Y\", \"U\", \"I\", \"O\", \"P\"],\n",
    "        [\"A\", \"S\", \"D\", \"F\", \"G\", \"H\", \"J\", \"K\", \"L\", \";\"],\n",
    "        [\"Z\", \"X\", \"C\", \"V\", \"B\", \"N\", \"M\", \",\", \".\", \"/\"]]\n",
    "finalText = \"\"\n",
    "\n",
    "keyboard = Controller()\n",
    "\n",
    "def draw_all(img, button_list):\n",
    "    for button in button_list:\n",
    "        x, y = button.pos\n",
    "        w, h = button.size\n",
    "        cvzone.cornerRect(img, (button.pos[0], button.pos[1], button.size[0], button.size[1]),\n",
    "                          20, rt=0)\n",
    "        cv2.rectangle(img, button.pos, (x + w, y + h), (255, 0, 255), cv2.FILLED)\n",
    "        cv2.putText(img, button.text, (x + 20, y + 65),\n",
    "                    cv2.FONT_HERSHEY_PLAIN, 4, (255, 255, 255), 4)\n",
    "    return img\n",
    "\n",
    "class Button():\n",
    "    def __init__(self, pos, text, size=[85, 85]):\n",
    "        self.pos = pos\n",
    "        self.size = size\n",
    "        self.text = text\n",
    "\n",
    "button_list = []\n",
    "for i in range(len(keys)):\n",
    "    for j, key in enumerate(keys[i]):\n",
    "        button_list.append(Button([100 * j + 50, 100 * i + 50], key))\n",
    "\n",
    "while True:\n",
    "    success, img = cap.read()\n",
    "    img = detector.findHands(img)\n",
    "    lm_list, bbox_info = detector.findPosition(img)\n",
    "    img = draw_all(img, button_list)\n",
    "\n",
    "    if lm_list:\n",
    "        for button in button_list:\n",
    "            x, y = button.pos\n",
    "            w, h = button.size\n",
    "\n",
    "            if x < lm_list[8][0] < x + w and y < lm_list[8][1] < y + h:\n",
    "                cv2.rectangle(img, (x - 5, y - 5), (x + w + 5, y + h + 5), (175, 0, 175), cv2.FILLED)\n",
    "                cv2.putText(img, button.text, (x + 20, y + 65),\n",
    "                            cv2.FONT_HERSHEY_PLAIN, 4, (255, 255, 255), 4)\n",
    "                l, _, _ = detector.findDistance(8, 12, img, draw=False)\n",
    "                print(l)\n",
    "\n",
    "                ## when clicked\n",
    "                if l < 30:\n",
    "                    keyboard.press(button.text)\n",
    "                    cv2.rectangle(img, button.pos, (x + w, y + h), (0, 255, 0), cv2.FILLED)\n",
    "                    cv2.putText(img, button.text, (x + 20, y + 65),\n",
    "                                cv2.FONT_HERSHEY_PLAIN, 4, (255, 255, 255), 4)\n",
    "                    finalText += button.text\n",
    "                    sleep(0.15)\n",
    "\n",
    "        cv2.rectangle(img, (50, 350), (700, 450), (175, 0, 175), cv2.FILLED)\n",
    "        cv2.putText(img, finalText, (60, 430),\n",
    "                    cv2.FONT_HERSHEY_PLAIN, 5, (255, 255, 255), 5)\n",
    "\n",
    "    cv2.imshow(\"Image\", img)\n",
    "    cv2.waitKey(1)\n"
   ]
  },
  {
   "cell_type": "code",
   "execution_count": null,
   "id": "d45830f0",
   "metadata": {},
   "outputs": [],
   "source": []
  },
  {
   "cell_type": "code",
   "execution_count": null,
   "id": "02d55cda",
   "metadata": {},
   "outputs": [],
   "source": []
  }
 ],
 "metadata": {
  "kernelspec": {
   "display_name": "Python 3 (ipykernel)",
   "language": "python",
   "name": "python3"
  },
  "language_info": {
   "codemirror_mode": {
    "name": "ipython",
    "version": 3
   },
   "file_extension": ".py",
   "mimetype": "text/x-python",
   "name": "python",
   "nbconvert_exporter": "python",
   "pygments_lexer": "ipython3",
   "version": "3.11.4"
  }
 },
 "nbformat": 4,
 "nbformat_minor": 5
}
